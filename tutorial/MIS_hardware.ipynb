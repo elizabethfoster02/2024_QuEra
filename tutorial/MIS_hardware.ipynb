{
 "cells": [
  {
   "cell_type": "markdown",
   "metadata": {},
   "source": [
    "# Solving the Maximal Independent Set Problem on defective King Graph\n",
    "## Introduction\n",
    "Showing how to use some of Bloqade's built-in tools to generate a Unit Disk Graph (UDG) and then solve the Maximal Independent Set (MIS) problem on it. This problem is easily expressable on Neutral Atom Hardware via the Rydberg blockade mechanism. We will also use this notebook to cover how to do parameter scans and optimization, although we will not cover hybrid quantum-classical algorithms. "
   ]
  },
  {
   "cell_type": "markdown",
   "metadata": {},
   "source": [
    "### Define the graph and UDG program \n",
    "\n",
    "To define random defects on any Bloqade geometry, simply call the `add_defect_density`\n",
    "or `add_defect_count` methods on the geometry object. The `add_defect_density` method\n",
    "takes a float between 0 and 1 and uses that as the probability of a site being a\n",
    "defect. The `add_defect_count` method takes the number of defects to add to the\n",
    "geometry placed in random locations. Both ways take an  optional `rng` argument,\n",
    "a numpy random number generator. If no `rng` argument is provided, then the default\n",
    "numpy random number generator is used. Using the random number generator allows you\n",
    "to set the seed for reproducibility. After that, defining the pulse sequence is the\n",
    "same as in the previous tutorials."
   ]
  },
  {
   "cell_type": "code",
   "execution_count": 2,
   "metadata": {},
   "outputs": [
    {
     "ename": "UndefVarError",
     "evalue": "UndefVarError: `from` not defined",
     "output_type": "error",
     "traceback": [
      "UndefVarError: `from` not defined\n"
     ]
    }
   ],
   "source": [
    "from bloqade import load, save\n",
    "from bloqade.atom_arrangement import Square\n",
    "import numpy as np\n",
    "import os\n",
    "import matplotlib.pyplot as plt"
   ]
  },
  {
   "cell_type": "code",
   "execution_count": 3,
   "metadata": {},
   "outputs": [
    {
     "ename": "Base.Meta.ParseError",
     "evalue": "ParseError:\n# Error @ /Users/elizabethfoster/Downloads/Code/iQuack/2024_QuEra/tutorial/MIS_hardware.ipynb:2:30\n\n#                            ┌\nif not os.path.isdir(\"data\"):\n    os.mkdir(\"data\")\n#──┘ ── line break after `:` in range expression",
     "output_type": "error",
     "traceback": [
      "ParseError:\n",
      "# Error @ /Users/elizabethfoster/Downloads/Code/iQuack/2024_QuEra/tutorial/MIS_hardware.ipynb:2:30\n",
      "\n",
      "#                            ┌\n",
      "if not os.path.isdir(\"data\"):\n",
      "    os.mkdir(\"data\")\n",
      "#──┘ ── line break after `:` in range expression\n",
      "\n",
      "Stacktrace:\n",
      " [1] top-level scope\n",
      "   @ ~/Downloads/Code/iQuack/2024_QuEra/tutorial/MIS_hardware.ipynb:2"
     ]
    }
   ],
   "source": [
    "\n",
    "if not os.path.isdir(\"data\"):\n",
    "    os.mkdir(\"data\")\n",
    "\n",
    "# setting the seed\n",
    "rng = np.random.default_rng(1234)\n",
    "\n",
    "durations = [0.3, 1.6, 0.3]\n",
    "\n",
    "graph = Square(15, lattice_spacing=5.0) \n",
    "\n",
    "rabi_amp = [0.0, 15.0, 15.0, 0.0]\n",
    "delta_amp = [-30, -30, \"final_detuning\", \"final_detuning\"]"
   ]
  },
  {
   "cell_type": "code",
   "execution_count": 4,
   "metadata": {},
   "outputs": [],
   "source": [
    "mis_udg_program = (\n",
    "    graph\n",
    "    .apply_defect_density(0.3, rng=rng)\n",
    "    .rydberg.rabi.amplitude.uniform.piecewise_linear(durations, rabi_amp)\n",
    "    .detuning.uniform.piecewise_linear(\n",
    "        durations, delta_amp\n",
    "    )\n",
    ")\n",
    "\n",
    "mis_udg_job = mis_udg_program.batch_assign(final_detuning=np.linspace(0, 80, 41))"
   ]
  },
  {
   "cell_type": "markdown",
   "metadata": {},
   "source": [
    "## Run On Hardware\n",
    "We can't run on our emulators because the program size is too large. Instead\n",
    "we will run on hardware."
   ]
  },
  {
   "cell_type": "code",
   "execution_count": null,
   "metadata": {},
   "outputs": [],
   "source": [
    "filename = os.path.join(os.path.abspath(\"\"), \"data\", \"MIS-UDG-job.json\")\n",
    "\n",
    "if not os.path.isfile(filename):\n",
    "    hw_batch = mis_udg_job.braket.aquila().run_async(shots=100)\n",
    "    save(hw_batch, filename)"
   ]
  },
  {
   "cell_type": "markdown",
   "metadata": {},
   "source": [
    "## Plot Results\n",
    "Here, the total number of Rydberg excitations is plotted as a function of the final\n",
    "detuning. The total number of Rydberg excitations is a proxy for the largest\n",
    "independent set size because the number of violations to the Rydberg blockade is and\n",
    "will not scale with the size of the independent set. We start by loading the results"
   ]
  },
  {
   "cell_type": "code",
   "execution_count": null,
   "metadata": {},
   "outputs": [],
   "source": [
    "\n",
    "batch = load(filename)\n",
    "# batch.fetch()\n",
    "# save(filename, batch)"
   ]
  },
  {
   "cell_type": "markdown",
   "metadata": {},
   "source": [
    "The report object already has a method to calculate the Rydberg densities. We can\n",
    "use this to calculate the average total Rydberg density for each final detuning.\n",
    "then, we can plot the results."
   ]
  },
  {
   "cell_type": "code",
   "execution_count": null,
   "metadata": {},
   "outputs": [],
   "source": [
    "report = batch.report()\n",
    "\n",
    "average_rydberg_excitation = report.rydberg_densities(filter_perfect_filling=False).sum(\n",
    "    axis=1\n",
    ")\n",
    "final_detunings = report.list_param(\"final_detuning\")\n",
    "\n",
    "plt.plot(final_detunings, average_rydberg_excitation, color=\"#6437FF\")\n",
    "plt.xlabel(\"final detuning (rad/µs)\")\n",
    "plt.ylabel(\"total rydberg excitations\")\n",
    "plt.show()"
   ]
  },
  {
   "cell_type": "code",
   "execution_count": null,
   "metadata": {},
   "outputs": [],
   "source": []
  },
  {
   "cell_type": "markdown",
   "metadata": {},
   "source": [
    "### Import libraries"
   ]
  },
  {
   "cell_type": "code",
   "execution_count": null,
   "metadata": {},
   "outputs": [],
   "source": [
    "from bloqade import load, save\n",
    "from bloqade.atom_arrangement import Square\n",
    "import numpy as np\n",
    "import os\n",
    "import matplotlib.pyplot as plt"
   ]
  },
  {
   "cell_type": "markdown",
   "metadata": {},
   "source": [
    "### Hardware constraints "
   ]
  },
  {
   "cell_type": "markdown",
   "metadata": {},
   "source": [
    "## Graph input "
   ]
  },
  {
   "cell_type": "code",
   "execution_count": 2,
   "metadata": {},
   "outputs": [
    {
     "ename": "UndefVarError",
     "evalue": "UndefVarError: `np` not defined",
     "output_type": "error",
     "traceback": [
      "UndefVarError: `np` not defined\n",
      "\n",
      "Stacktrace:\n",
      " [1] top-level scope\n",
      "   @ ~/Downloads/Code/iQuack/2024_QuEra/tutorial/MIS.ipynb:7"
     ]
    }
   ],
   "source": [
    "qc_h = 76 #um \n",
    "qc_w = 75 #um\n",
    "\n",
    "min_atom_d = 4 #um \n",
    "qubit_no = 256 \n",
    "\n",
    "max_om_freq = 2.5*2*np.pi #MHz\n",
    "min_del = -20 #MHz\n",
    "max_del = 20 * 2*np.pi #MHz\n",
    "\n",
    "C6 = 862690 * np.pi #MHz * um^6"
   ]
  }
 ],
 "metadata": {
  "kernelspec": {
   "display_name": "Julia 1.10.0",
   "language": "julia",
   "name": "julia-1.10"
  },
  "language_info": {
   "file_extension": ".jl",
   "mimetype": "application/julia",
   "name": "julia",
   "version": "1.10.0"
  },
  "orig_nbformat": 4
 },
 "nbformat": 4,
 "nbformat_minor": 2
}
