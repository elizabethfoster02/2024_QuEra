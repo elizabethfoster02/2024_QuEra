{
 "cells": [
  {
   "cell_type": "markdown",
   "metadata": {},
   "source": [
    "# Solving the Maximal Independent Set Problem on defective King Graph\n",
    "## Introduction\n",
    "Showing how to use some of Bloqade's built-in tools to generate a Unit Disk Graph (UDG) and then solve the Maximal Independent Set (MIS) problem on it. This problem is easily expressable on Neutral Atom Hardware via the Rydberg blockade mechanism. We will also use this notebook to cover how to do parameter scans and optimization, although we will not cover hybrid quantum-classical algorithms. "
   ]
  },
  {
   "cell_type": "code",
   "execution_count": 2,
   "metadata": {
    "vscode": {
     "languageId": "julia"
    }
   },
   "outputs": [
    {
     "ename": "UndefVarError",
     "evalue": "UndefVarError: `np` not defined",
     "output_type": "error",
     "traceback": [
      "UndefVarError: `np` not defined\n",
      "\n",
      "Stacktrace:\n",
      " [1] top-level scope\n",
      "   @ ~/Downloads/Code/iQuack/2024_QuEra/tutorial/MIS.ipynb:7"
     ]
    }
   ],
   "source": [
    "qc_h = 76 #um \n",
    "qc_w = 75 #um\n",
    "\n",
    "min_atom_d = 4 #um \n",
    "qubit_no = 256 \n",
    "\n",
    "max_om_freq = 2.5*2*np.pi #MHz\n",
    "min_del = -20 #MHz\n",
    "max_del = 20 * 2*np.pi #MHz\n",
    "\n",
    "C6 = 862690 * np.pi #MHz * um^6"
   ]
  }
 ],
 "metadata": {
  "language_info": {
   "name": "python"
  },
  "orig_nbformat": 4
 },
 "nbformat": 4,
 "nbformat_minor": 2
}
