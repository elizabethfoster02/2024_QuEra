{
 "cells": [
  {
   "cell_type": "code",
   "execution_count": null,
   "metadata": {},
   "outputs": [],
   "source": []
  },
  {
   "cell_type": "markdown",
   "metadata": {},
   "source": [
    "# Solving the Maximal Independent Set Problem on defective King Graph\n",
    "## Introduction\n",
    "Showing how to use some of Bloqade's built-in tools to generate a Unit Disk Graph (UDG) and then solve the Maximal Independent Set (MIS) problem on it. This problem is easily expressable on Neutral Atom Hardware via the Rydberg blockade mechanism. We will also use this notebook to cover how to do parameter scans and optimization, although we will not cover hybrid quantum-classical algorithms. "
   ]
  },
  {
   "cell_type": "markdown",
   "metadata": {},
   "source": [
    "### Hardware Restrictions"
   ]
  },
  {
   "cell_type": "code",
   "execution_count": 1,
   "metadata": {},
   "outputs": [
    {
     "data": {
      "text/plain": [
       "4"
      ]
     },
     "metadata": {},
     "output_type": "display_data"
    }
   ],
   "source": [
    "qc_h = 76 #um \n",
    "qc_w = 75 #um\n",
    "\n",
    "min_atom_d = 4 #um "
   ]
  }
 ],
 "metadata": {
  "kernelspec": {
   "display_name": "Julia 1.10.0",
   "language": "julia",
   "name": "julia-1.10"
  },
  "language_info": {
   "file_extension": ".jl",
   "mimetype": "application/julia",
   "name": "julia",
   "version": "1.10.0"
  },
  "orig_nbformat": 4
 },
 "nbformat": 4,
 "nbformat_minor": 2
}
