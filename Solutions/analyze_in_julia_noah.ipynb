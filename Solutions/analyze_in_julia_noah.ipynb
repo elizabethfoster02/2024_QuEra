{
 "cells": [
  {
   "cell_type": "code",
   "execution_count": 1,
   "id": "8c3b3104-df95-43ce-a30d-9230d2f0fe39",
   "metadata": {
    "tags": []
   },
   "outputs": [
    {
     "name": "stderr",
     "output_type": "stream",
     "text": [
      "\u001b[32m\u001b[1m   Resolving\u001b[22m\u001b[39m package versions...\n",
      "\u001b[32m\u001b[1m  No Changes\u001b[22m\u001b[39m to `/opt/.julia/environments/v1.9/Project.toml`\n",
      "\u001b[32m\u001b[1m  No Changes\u001b[22m\u001b[39m to `/opt/.julia/environments/v1.9/Manifest.toml`\n",
      "\u001b[32m\u001b[1m   Resolving\u001b[22m\u001b[39m package versions...\n",
      "\u001b[32m\u001b[1m  No Changes\u001b[22m\u001b[39m to `/opt/.julia/environments/v1.9/Project.toml`\n",
      "\u001b[32m\u001b[1m  No Changes\u001b[22m\u001b[39m to `/opt/.julia/environments/v1.9/Manifest.toml`\n",
      "\u001b[32m\u001b[1m   Resolving\u001b[22m\u001b[39m package versions...\n",
      "\u001b[32m\u001b[1m  No Changes\u001b[22m\u001b[39m to `/opt/.julia/environments/v1.9/Project.toml`\n",
      "\u001b[32m\u001b[1m  No Changes\u001b[22m\u001b[39m to `/opt/.julia/environments/v1.9/Manifest.toml`\n"
     ]
    }
   ],
   "source": [
    "import Pkg\n",
    "Pkg.add(\"Graphs\")\n",
    "Pkg.add(\"GenericTensorNetworks\")\n",
    "Pkg.add(\"Optim\")\n",
    "using Graphs\n",
    "using Bloqade\n",
    "using Random\n",
    "using GenericTensorNetworks\n",
    "using Optim\n",
    "using PythonCall\n",
    "plt = pyimport(\"matplotlib.pyplot\");\n"
   ]
  },
  {
   "cell_type": "code",
   "execution_count": 2,
   "id": "9718057e-64f9-4762-8702-21163818541d",
   "metadata": {
    "tags": []
   },
   "outputs": [
    {
     "ename": "LoadError",
     "evalue": "UndefVarError: `load` not defined",
     "output_type": "error",
     "traceback": [
      "UndefVarError: `load` not defined",
      "",
      "Stacktrace:",
      " [1] getproperty(x::Module, f::Symbol)",
      "   @ Base ./Base.jl:31",
      " [2] top-level scope",
      "   @ In[2]:1"
     ]
    }
   ],
   "source": [
    "Bloqade.load(\"kings_first_test\")"
   ]
  },
  {
   "cell_type": "code",
   "execution_count": null,
   "id": "23a7a73e-5f04-4dda-bc41-fa3f0ef7882a",
   "metadata": {},
   "outputs": [],
   "source": []
  }
 ],
 "metadata": {
  "kernelspec": {
   "display_name": "Julia 1.9.3",
   "language": "julia",
   "name": "julia-1.9"
  },
  "language_info": {
   "file_extension": ".jl",
   "mimetype": "application/julia",
   "name": "julia",
   "version": "1.9.3"
  }
 },
 "nbformat": 4,
 "nbformat_minor": 5
}
